{
 "cells": [
  {
   "cell_type": "code",
   "execution_count": null,
   "metadata": {
    "collapsed": true
   },
   "outputs": [],
   "source": [
    "from NODE_WAN_model.training import NODE_WAN_solver\n",
    "import torch\n",
    "import math\n",
    "from NODE_WAN_model.dataset import *"
   ]
  },
  {
   "cell_type": "markdown",
   "source": [
    "# Form of our problem:\n",
    "\\begin{equation}\n",
    "\\left\\{\\begin{array}{ll}\n",
    "u_{t}-\\bigtriangleup u - u**2 = f, & \\text { in } \\Omega \\times[0, T] \\\\\n",
    "u(x, t)=g(x, t), & \\text { on } \\partial \\Omega \\times[0, T] \\\\\n",
    "u(x, 0)=h(x), & \\text { in } \\Omega\n",
    "\\end{array}\\right.\n",
    "\\end{equation}\n",
    "\n",
    "where $x$ is a d-dimensional vector.\n",
    "\n",
    "The functions are:"
   ],
   "metadata": {
    "collapsed": false
   }
  },
  {
   "cell_type": "code",
   "execution_count": null,
   "outputs": [],
   "source": [
    "# setting to cuda\n",
    "\n",
    "device = torch.device('cuda' if torch.cuda.is_available() else 'cpu')"
   ],
   "metadata": {
    "collapsed": false,
    "pycharm": {
     "name": "#%%\n"
    }
   }
  },
  {
   "cell_type": "markdown",
   "source": [
    "# Setting Parameters\n",
    "\n",
    "We have two dictionaries in which we can specify our desired problem setup (including number of points sampled, as shown\n",
    "in the paper) and the configuration of our neural networks, called `setup` and `config` respectively.\n"
   ],
   "metadata": {
    "collapsed": false,
    "pycharm": {
     "name": "#%% md\n"
    }
   }
  },
  {
   "cell_type": "code",
   "execution_count": null,
   "outputs": [],
   "source": [
    "setup = {\n",
    "    'dim': 5,   # int: dimension of the problem\n",
    "    'N_t': 20,  # int: number of time samples\n",
    "    'N_r': 400, # int: number of spatial samples in the interior\n",
    "    'N_b': 400, # int: number of spatial samples on the boundary\n",
    "    'T0': 0,    # float: initial time\n",
    "    'T': 1      # float: final time\n",
    "}\n",
    "\n",
    "config = {\n",
    "    'alpha': 1e4 * 400 * 25,    # float: the coefficient in our loss function\n",
    "    'u_layers': 8,              # int: depth of the hidden field F\n",
    "    'u_hidden_dim': 20,         # int: dimensionality of the initial and final layers\n",
    "    'u_hidden_hidden_dim': 10,  # int: dimensionality of the hidden field F\n",
    "    'v_layers': 9,              # int: the depth of the adversarial DNN\n",
    "    'v_hidden_dim': 50,         # int: the dimensionality of the adversarial DNN\n",
    "    'n1': 2,                    # int: sub-iterations for fitting of the guess\n",
    "    'n2': 1,                    # int: sub-iterations for fitting of the test function\n",
    "    'u_rate': 0.015,            # float: learning rate of the guess\n",
    "    'v_rate': 0.04,             # float: learning rate of the test function\n",
    "    'min_steps': 5,             # int: smallest number of time steps used in the ODE solver\n",
    "    'adjoint': False,           # bool: whether to use an adjoint solver for the ODE solver\n",
    "    'solver': 'midpoint'        # str: the solver to be used in the ODE solver\n",
    "}\n",
    "\n",
    "iterations = 1001"
   ],
   "metadata": {
    "collapsed": false,
    "pycharm": {
     "name": "#%%\n"
    }
   }
  },
  {
   "cell_type": "markdown",
   "source": [
    "# Setting the specific problem to solve\n",
    "Here we can specify the functions that we have from our problem, including the solution if known. In case there is an\n",
    "unknown solution, do not provide `func_u_sol` to `NODE_WAN_solver` below or set it to `None`."
   ],
   "metadata": {
    "collapsed": false
   }
  },
  {
   "cell_type": "code",
   "source": [
    "def func_u_sol(X):\n",
    "    sins = 1\n",
    "    for i in range(setup['dim']):\n",
    "        sins *= torch.sin(math.pi/2 * X[:, :, i+1] + math.pi/2 * i)\n",
    "    return (2/math.pi) ** (-setup['dim']) * 2 * sins * torch.exp(-X[:, :, 0])\n",
    "\n",
    "\n",
    "def func_f(X):\n",
    "    sins = 1\n",
    "    for i in range(setup['dim']):\n",
    "        sins *= torch.sin(math.pi / 2 * X[:, :, i + 1] + math.pi / 2 * i)\n",
    "    return (2/math.pi) ** (-setup['dim']) * (math.pi ** 2 - 2) * sins * torch.exp(-X[:, :, 0]) - 4 * sins ** 2 * torch.exp(-2*X[:, :, 0])\n",
    "\n",
    "\n",
    "def func_g(BX):\n",
    "    return func_u_sol(BX)\n",
    "\n",
    "\n",
    "def func_h(X):\n",
    "    sins = 1\n",
    "    for i in range(setup['dim']):\n",
    "        sins *= torch.sin(math.pi / 2 * X[:, i + 1] + math.pi / 2 * i)\n",
    "    return (2/math.pi) ** (-setup['dim']) * 2 * sins\n",
    "\n",
    "\n",
    "def func_a(X, i, j):\n",
    "    if i == j:\n",
    "        return torch.ones(X.shape[:-1])\n",
    "    else:\n",
    "        return torch.zeros(X.shape[:-1])\n",
    "\n",
    "\n",
    "def func_b(X, i):\n",
    "    return torch.zeros(X.shape[:-1])"
   ],
   "metadata": {
    "collapsed": false,
    "pycharm": {
     "name": "#%%\n"
    }
   },
   "execution_count": null,
   "outputs": []
  },
  {
   "cell_type": "markdown",
   "source": [
    "The following function can take into account the function u, so they have the input `y_output_u` which will be our\n",
    "guess solution."
   ],
   "metadata": {
    "collapsed": false,
    "pycharm": {
     "name": "#%% md\n"
    }
   }
  },
  {
   "cell_type": "code",
   "execution_count": null,
   "outputs": [],
   "source": [
    "def func_c(X, y_output_u):\n",
    "    return -y_output_u"
   ],
   "metadata": {
    "collapsed": false,
    "pycharm": {
     "name": "#%%\n"
    }
   }
  },
  {
   "cell_type": "markdown",
   "source": [
    "We can now specify the domain by calling one of the shapes from `NODE_WAN_model.dataset` or a custom one (more on the\n",
    "rules of this on the git or the `NODE_WAN_model.dataset` file itself)."
   ],
   "metadata": {
    "collapsed": false,
    "pycharm": {
     "name": "#%% md\n"
    }
   }
  },
  {
   "cell_type": "code",
   "execution_count": null,
   "outputs": [],
   "source": [
    "params = {**config, **setup, **{'iterations': int(iterations)}, **{'domain': 'Hypercube'}}\n",
    "\n",
    "solver = NODE_WAN_solver(params, func_a, func_b, func_c, func_h, func_f, func_g, device, './', func_u_sol=func_u_sol, p=2)"
   ],
   "metadata": {
    "collapsed": false,
    "pycharm": {
     "name": "#%%\n"
    }
   }
  },
  {
   "cell_type": "code",
   "execution_count": null,
   "outputs": [],
   "source": [
    "solver.train(report=True, report_it=100, show_plt=True)"
   ],
   "metadata": {
    "collapsed": false,
    "pycharm": {
     "name": "#%%\n"
    }
   }
  }
 ],
 "metadata": {
  "kernelspec": {
   "display_name": "Python 3",
   "language": "python",
   "name": "python3"
  },
  "language_info": {
   "codemirror_mode": {
    "name": "ipython",
    "version": 2
   },
   "file_extension": ".py",
   "mimetype": "text/x-python",
   "name": "python",
   "nbconvert_exporter": "python",
   "pygments_lexer": "ipython2",
   "version": "2.7.6"
  }
 },
 "nbformat": 4,
 "nbformat_minor": 0
}